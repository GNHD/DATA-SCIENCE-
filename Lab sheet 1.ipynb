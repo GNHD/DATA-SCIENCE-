{
 "cells": [
  {
   "cell_type": "markdown",
   "id": "9c6b131a",
   "metadata": {},
   "source": [
    "DATA PROCESSING"
   ]
  },
  {
   "cell_type": "code",
   "execution_count": 2,
   "id": "f0f776c8",
   "metadata": {},
   "outputs": [
    {
     "ename": "SyntaxError",
     "evalue": "(unicode error) 'unicodeescape' codec can't decode bytes in position 2-3: truncated \\UXXXXXXXX escape (2176408501.py, line 6)",
     "output_type": "error",
     "traceback": [
      "\u001b[1;36m  Input \u001b[1;32mIn [2]\u001b[1;36m\u001b[0m\n\u001b[1;33m    data=read_csv(\"C:\\Users\\gouri\\OneDrive\\Desktop\\OFFICIAL\\COLLEGE\\DATA SCIENCE\\LAB 1\\LAB 1 PRE PROCESSING\\meteorite-landings\")\u001b[0m\n\u001b[1;37m                                                                                                                               ^\u001b[0m\n\u001b[1;31mSyntaxError\u001b[0m\u001b[1;31m:\u001b[0m (unicode error) 'unicodeescape' codec can't decode bytes in position 2-3: truncated \\UXXXXXXXX escape\n"
     ]
    }
   ],
   "source": [
    "#1st question\n",
    "import numpy as np\n",
    "import pandas as pd \n",
    "import matplotlib.pyplot as plt \n",
    "from pandas import read_csv\n",
    "data=read_csv(\"C:\\Users\\gouri\\OneDrive\\Desktop\\OFFICIAL\\COLLEGE\\DATA SCIENCE\\LAB 1\\LAB 1 PRE PROCESSING\\meteorite-landings\")\n",
    "print (data.shape)\n"
   ]
  },
  {
   "cell_type": "code",
   "execution_count": null,
   "id": "13a5f4fd",
   "metadata": {},
   "outputs": [
    {
     "name": "stdout",
     "output_type": "stream",
     "text": [
      "                 id          mass          year        reclat       reclong\n",
      "count  45716.000000  4.558500e+04  45428.000000  38401.000000  38401.000000\n",
      "mean   26889.735104  1.327808e+04   1991.772189    -39.122580     61.074319\n",
      "std    16860.683030  5.749889e+05     27.181247     46.378511     80.647298\n",
      "min        1.000000  0.000000e+00    301.000000    -87.366670   -165.433330\n",
      "25%    12688.750000  7.200000e+00   1987.000000    -76.714240      0.000000\n",
      "50%    24261.500000  3.260000e+01   1998.000000    -71.500000     35.666670\n",
      "75%    40656.750000  2.026000e+02   2003.000000      0.000000    157.166670\n",
      "max    57458.000000  6.000000e+07   2501.000000     81.166670    354.473330\n"
     ]
    }
   ],
   "source": [
    "description = data.describe()\n",
    "print(description)"
   ]
  },
  {
   "cell_type": "code",
   "execution_count": null,
   "id": "209258eb",
   "metadata": {},
   "outputs": [
    {
     "data": {
      "text/plain": [
       "count    45428.000000\n",
       "mean      1991.772189\n",
       "std         27.181247\n",
       "min        301.000000\n",
       "25%       1987.000000\n",
       "50%       1998.000000\n",
       "75%       2003.000000\n",
       "max       2501.000000\n",
       "Name: year, dtype: float64"
      ]
     },
     "execution_count": 4,
     "metadata": {},
     "output_type": "execute_result"
    }
   ],
   "source": [
    "#3rd question\n",
    "description[\"year\"]"
   ]
  },
  {
   "cell_type": "code",
   "execution_count": null,
   "id": "29ca7c17",
   "metadata": {},
   "outputs": [
    {
     "name": "stdout",
     "output_type": "stream",
     "text": [
      "             name     id nametype              recclass      mass   fall  \\\n",
      "0          Aachen      1    Valid                    L5      21.0   Fell   \n",
      "1          Aarhus      2    Valid                    H6     720.0   Fell   \n",
      "2            Abee      6    Valid                   EH4  107000.0   Fell   \n",
      "3        Acapulco     10    Valid           Acapulcoite    1914.0   Fell   \n",
      "4         Achiras    370    Valid                    L6     780.0   Fell   \n",
      "...           ...    ...      ...                   ...       ...    ...   \n",
      "45711  Zillah 002  31356    Valid               Eucrite     172.0  Found   \n",
      "45712      Zinder  30409    Valid  Pallasite, ungrouped      46.0  Found   \n",
      "45713        Zlin  30410    Valid                    H4       3.3  Found   \n",
      "45714   Zubkovsky  31357    Valid                    L6    2167.0  Found   \n",
      "45715  Zulu Queen  30414    Valid                  L3.7     200.0  Found   \n",
      "\n",
      "         year    reclat    reclong               GeoLocation  \n",
      "0      1880.0  50.77500    6.08333     (50.775000, 6.083330)  \n",
      "1      1951.0  56.18333   10.23333    (56.183330, 10.233330)  \n",
      "2      1952.0  54.21667 -113.00000  (54.216670, -113.000000)  \n",
      "3      1976.0  16.88333  -99.90000   (16.883330, -99.900000)  \n",
      "4      1902.0 -33.16667  -64.95000  (-33.166670, -64.950000)  \n",
      "...       ...       ...        ...                       ...  \n",
      "45711  1990.0  29.03700   17.01850    (29.037000, 17.018500)  \n",
      "45712  1999.0  13.78333    8.96667     (13.783330, 8.966670)  \n",
      "45713  1939.0  49.25000   17.66667    (49.250000, 17.666670)  \n",
      "45714  2003.0  49.78917   41.50460    (49.789170, 41.504600)  \n",
      "45715  1976.0  33.98333 -115.68333  (33.983330, -115.683330)  \n",
      "\n",
      "[45424 rows x 10 columns]\n"
     ]
    }
   ],
   "source": [
    "#4th a\n",
    "data_1 = data[(data.year >= 860) & (data.year <= 2016)]\n",
    "print(data_1)"
   ]
  },
  {
   "cell_type": "code",
   "execution_count": null,
   "id": "2be78863",
   "metadata": {},
   "outputs": [
    {
     "name": "stdout",
     "output_type": "stream",
     "text": [
      "             name     id nametype              recclass      mass   fall  \\\n",
      "0          Aachen      1    Valid                    L5      21.0   Fell   \n",
      "1          Aarhus      2    Valid                    H6     720.0   Fell   \n",
      "2            Abee      6    Valid                   EH4  107000.0   Fell   \n",
      "3        Acapulco     10    Valid           Acapulcoite    1914.0   Fell   \n",
      "4         Achiras    370    Valid                    L6     780.0   Fell   \n",
      "...           ...    ...      ...                   ...       ...    ...   \n",
      "45711  Zillah 002  31356    Valid               Eucrite     172.0  Found   \n",
      "45712      Zinder  30409    Valid  Pallasite, ungrouped      46.0  Found   \n",
      "45713        Zlin  30410    Valid                    H4       3.3  Found   \n",
      "45714   Zubkovsky  31357    Valid                    L6    2167.0  Found   \n",
      "45715  Zulu Queen  30414    Valid                  L3.7     200.0  Found   \n",
      "\n",
      "         year    reclat    reclong               GeoLocation  \n",
      "0      1880.0  50.77500    6.08333     (50.775000, 6.083330)  \n",
      "1      1951.0  56.18333   10.23333    (56.183330, 10.233330)  \n",
      "2      1952.0  54.21667 -113.00000  (54.216670, -113.000000)  \n",
      "3      1976.0  16.88333  -99.90000   (16.883330, -99.900000)  \n",
      "4      1902.0 -33.16667  -64.95000  (-33.166670, -64.950000)  \n",
      "...       ...       ...        ...                       ...  \n",
      "45711  1990.0  29.03700   17.01850    (29.037000, 17.018500)  \n",
      "45712  1999.0  13.78333    8.96667     (13.783330, 8.966670)  \n",
      "45713  1939.0  49.25000   17.66667    (49.250000, 17.666670)  \n",
      "45714  2003.0  49.78917   41.50460    (49.789170, 41.504600)  \n",
      "45715  1976.0  33.98333 -115.68333  (33.983330, -115.683330)  \n",
      "\n",
      "[31962 rows x 10 columns]\n"
     ]
    }
   ],
   "source": [
    "#4th b\n",
    "data_2 = data[((data.reclong <= 180) & (data.reclong >= -180)) & ((data.reclat != 0) & (data.reclong != 0))]\n",
    "print(data_2)"
   ]
  },
  {
   "cell_type": "code",
   "execution_count": null,
   "id": "470e0ad8",
   "metadata": {},
   "outputs": [
    {
     "data": {
      "text/plain": [
       "name             0\n",
       "id               0\n",
       "nametype         0\n",
       "recclass         0\n",
       "mass           118\n",
       "fall             0\n",
       "year           147\n",
       "reclat           0\n",
       "reclong          0\n",
       "GeoLocation      0\n",
       "dtype: int64"
      ]
     },
     "execution_count": 7,
     "metadata": {},
     "output_type": "execute_result"
    }
   ],
   "source": [
    "#5th question\n",
    "data_2.isnull().sum()"
   ]
  },
  {
   "cell_type": "code",
   "execution_count": null,
   "id": "db12179d",
   "metadata": {},
   "outputs": [
    {
     "data": {
      "text/html": [
       "<div>\n",
       "<style scoped>\n",
       "    .dataframe tbody tr th:only-of-type {\n",
       "        vertical-align: middle;\n",
       "    }\n",
       "\n",
       "    .dataframe tbody tr th {\n",
       "        vertical-align: top;\n",
       "    }\n",
       "\n",
       "    .dataframe thead th {\n",
       "        text-align: right;\n",
       "    }\n",
       "</style>\n",
       "<table border=\"1\" class=\"dataframe\">\n",
       "  <thead>\n",
       "    <tr style=\"text-align: right;\">\n",
       "      <th></th>\n",
       "      <th>name</th>\n",
       "      <th>id</th>\n",
       "      <th>nametype</th>\n",
       "      <th>recclass</th>\n",
       "      <th>mass</th>\n",
       "      <th>fall</th>\n",
       "      <th>year</th>\n",
       "      <th>reclat</th>\n",
       "      <th>reclong</th>\n",
       "      <th>GeoLocation</th>\n",
       "    </tr>\n",
       "  </thead>\n",
       "  <tbody>\n",
       "    <tr>\n",
       "      <th>12</th>\n",
       "      <td>Aire-sur-la-Lys</td>\n",
       "      <td>425</td>\n",
       "      <td>Valid</td>\n",
       "      <td>Unknown</td>\n",
       "      <td>NaN</td>\n",
       "      <td>Fell</td>\n",
       "      <td>1769.0</td>\n",
       "      <td>50.66667</td>\n",
       "      <td>2.33333</td>\n",
       "      <td>(50.666670, 2.333330)</td>\n",
       "    </tr>\n",
       "    <tr>\n",
       "      <th>38</th>\n",
       "      <td>Angers</td>\n",
       "      <td>2301</td>\n",
       "      <td>Valid</td>\n",
       "      <td>L6</td>\n",
       "      <td>NaN</td>\n",
       "      <td>Fell</td>\n",
       "      <td>1822.0</td>\n",
       "      <td>47.46667</td>\n",
       "      <td>-0.55000</td>\n",
       "      <td>(47.466670, -0.550000)</td>\n",
       "    </tr>\n",
       "    <tr>\n",
       "      <th>76</th>\n",
       "      <td>Barcelona (stone)</td>\n",
       "      <td>4944</td>\n",
       "      <td>Valid</td>\n",
       "      <td>OC</td>\n",
       "      <td>NaN</td>\n",
       "      <td>Fell</td>\n",
       "      <td>1704.0</td>\n",
       "      <td>41.36667</td>\n",
       "      <td>2.16667</td>\n",
       "      <td>(41.366670, 2.166670)</td>\n",
       "    </tr>\n",
       "    <tr>\n",
       "      <th>93</th>\n",
       "      <td>Belville</td>\n",
       "      <td>5009</td>\n",
       "      <td>Valid</td>\n",
       "      <td>OC</td>\n",
       "      <td>NaN</td>\n",
       "      <td>Fell</td>\n",
       "      <td>1937.0</td>\n",
       "      <td>-32.33333</td>\n",
       "      <td>-64.86667</td>\n",
       "      <td>(-32.333330, -64.866670)</td>\n",
       "    </tr>\n",
       "    <tr>\n",
       "      <th>172</th>\n",
       "      <td>Castel Berardenga</td>\n",
       "      <td>5292</td>\n",
       "      <td>Valid</td>\n",
       "      <td>Stone-uncl</td>\n",
       "      <td>NaN</td>\n",
       "      <td>Fell</td>\n",
       "      <td>1791.0</td>\n",
       "      <td>43.35000</td>\n",
       "      <td>11.50000</td>\n",
       "      <td>(43.350000, 11.500000)</td>\n",
       "    </tr>\n",
       "    <tr>\n",
       "      <th>...</th>\n",
       "      <td>...</td>\n",
       "      <td>...</td>\n",
       "      <td>...</td>\n",
       "      <td>...</td>\n",
       "      <td>...</td>\n",
       "      <td>...</td>\n",
       "      <td>...</td>\n",
       "      <td>...</td>\n",
       "      <td>...</td>\n",
       "      <td>...</td>\n",
       "    </tr>\n",
       "    <tr>\n",
       "      <th>36812</th>\n",
       "      <td>San Luis</td>\n",
       "      <td>23129</td>\n",
       "      <td>Valid</td>\n",
       "      <td>H</td>\n",
       "      <td>NaN</td>\n",
       "      <td>Found</td>\n",
       "      <td>1964.0</td>\n",
       "      <td>-33.33333</td>\n",
       "      <td>-66.38333</td>\n",
       "      <td>(-33.333330, -66.383330)</td>\n",
       "    </tr>\n",
       "    <tr>\n",
       "      <th>38188</th>\n",
       "      <td>Ur</td>\n",
       "      <td>24125</td>\n",
       "      <td>Valid</td>\n",
       "      <td>Iron</td>\n",
       "      <td>NaN</td>\n",
       "      <td>Found</td>\n",
       "      <td>2501.0</td>\n",
       "      <td>30.90000</td>\n",
       "      <td>46.01667</td>\n",
       "      <td>(30.900000, 46.016670)</td>\n",
       "    </tr>\n",
       "    <tr>\n",
       "      <th>38278</th>\n",
       "      <td>Weiyuan</td>\n",
       "      <td>24233</td>\n",
       "      <td>Valid</td>\n",
       "      <td>Mesosiderite</td>\n",
       "      <td>NaN</td>\n",
       "      <td>Found</td>\n",
       "      <td>1978.0</td>\n",
       "      <td>35.26667</td>\n",
       "      <td>104.31667</td>\n",
       "      <td>(35.266670, 104.316670)</td>\n",
       "    </tr>\n",
       "    <tr>\n",
       "      <th>41460</th>\n",
       "      <td>Yamato 792768</td>\n",
       "      <td>28117</td>\n",
       "      <td>Valid</td>\n",
       "      <td>CM2</td>\n",
       "      <td>NaN</td>\n",
       "      <td>Found</td>\n",
       "      <td>1979.0</td>\n",
       "      <td>-71.50000</td>\n",
       "      <td>35.66667</td>\n",
       "      <td>(-71.500000, 35.666670)</td>\n",
       "    </tr>\n",
       "    <tr>\n",
       "      <th>45698</th>\n",
       "      <td>Zapata County</td>\n",
       "      <td>30393</td>\n",
       "      <td>Valid</td>\n",
       "      <td>Iron</td>\n",
       "      <td>NaN</td>\n",
       "      <td>Found</td>\n",
       "      <td>1930.0</td>\n",
       "      <td>27.00000</td>\n",
       "      <td>-99.00000</td>\n",
       "      <td>(27.000000, -99.000000)</td>\n",
       "    </tr>\n",
       "  </tbody>\n",
       "</table>\n",
       "<p>118 rows × 10 columns</p>\n",
       "</div>"
      ],
      "text/plain": [
       "                    name     id nametype      recclass  mass   fall    year  \\\n",
       "12       Aire-sur-la-Lys    425    Valid       Unknown   NaN   Fell  1769.0   \n",
       "38                Angers   2301    Valid            L6   NaN   Fell  1822.0   \n",
       "76     Barcelona (stone)   4944    Valid            OC   NaN   Fell  1704.0   \n",
       "93              Belville   5009    Valid            OC   NaN   Fell  1937.0   \n",
       "172    Castel Berardenga   5292    Valid    Stone-uncl   NaN   Fell  1791.0   \n",
       "...                  ...    ...      ...           ...   ...    ...     ...   \n",
       "36812           San Luis  23129    Valid             H   NaN  Found  1964.0   \n",
       "38188                 Ur  24125    Valid          Iron   NaN  Found  2501.0   \n",
       "38278            Weiyuan  24233    Valid  Mesosiderite   NaN  Found  1978.0   \n",
       "41460      Yamato 792768  28117    Valid           CM2   NaN  Found  1979.0   \n",
       "45698      Zapata County  30393    Valid          Iron   NaN  Found  1930.0   \n",
       "\n",
       "         reclat    reclong               GeoLocation  \n",
       "12     50.66667    2.33333     (50.666670, 2.333330)  \n",
       "38     47.46667   -0.55000    (47.466670, -0.550000)  \n",
       "76     41.36667    2.16667     (41.366670, 2.166670)  \n",
       "93    -32.33333  -64.86667  (-32.333330, -64.866670)  \n",
       "172    43.35000   11.50000    (43.350000, 11.500000)  \n",
       "...         ...        ...                       ...  \n",
       "36812 -33.33333  -66.38333  (-33.333330, -66.383330)  \n",
       "38188  30.90000   46.01667    (30.900000, 46.016670)  \n",
       "38278  35.26667  104.31667   (35.266670, 104.316670)  \n",
       "41460 -71.50000   35.66667   (-71.500000, 35.666670)  \n",
       "45698  27.00000  -99.00000   (27.000000, -99.000000)  \n",
       "\n",
       "[118 rows x 10 columns]"
      ]
     },
     "execution_count": 8,
     "metadata": {},
     "output_type": "execute_result"
    }
   ],
   "source": [
    "#6th \n",
    "df=pd.isnull(data_2[\"mass\"])\n",
    "data_2[df]"
   ]
  },
  {
   "cell_type": "code",
   "execution_count": null,
   "id": "02e7bcce",
   "metadata": {},
   "outputs": [
    {
     "data": {
      "text/plain": [
       "count    3.184400e+04\n",
       "mean     1.864890e+04\n",
       "std      6.877762e+05\n",
       "min      0.000000e+00\n",
       "25%      6.600000e+00\n",
       "50%      3.040000e+01\n",
       "75%      2.061600e+02\n",
       "max      6.000000e+07\n",
       "Name: mass, dtype: float64"
      ]
     },
     "execution_count": 9,
     "metadata": {},
     "output_type": "execute_result"
    }
   ],
   "source": [
    "#7th question\n",
    "data_2['mass'].describe()"
   ]
  },
  {
   "cell_type": "code",
   "execution_count": null,
   "id": "16b4f8e2",
   "metadata": {},
   "outputs": [
    {
     "data": {
      "text/plain": [
       "[array([   12,    37,    75,    92,   170,   202,   259,   305,   309,\n",
       "          317,   321,   343,   389,   556,   572,   636,   656,   670,\n",
       "          683,   698,   718,   736,   740,   762,   774,   780,   854,\n",
       "          942,  1002,  1027,  1038,  1063,  3415,  5007,  5085,  5143,\n",
       "         5362,  5397,  5510,  5541,  5542,  6684,  6715,  8172,  8218,\n",
       "        11527, 11530, 11585, 14575, 14580, 14581, 14596, 14990, 15000,\n",
       "        15001, 15036, 15179, 15904, 15964, 15986, 16014, 16084, 16318,\n",
       "        20004, 20129, 20413, 20414, 20415, 20416, 20417, 20418, 20419,\n",
       "        20420, 20421, 20422, 20423, 20424, 20425, 20426, 20427, 20428,\n",
       "        20429, 20430, 20431, 20432, 20433, 20434, 20435, 20436, 20437,\n",
       "        20438, 20439, 20440, 20441, 20442, 20443, 20444, 20445, 20446,\n",
       "        20447, 20448, 20449, 20450, 20451, 20452, 20453, 20454, 20455,\n",
       "        20456, 20457, 20458, 20459, 20497, 25553, 26820, 26908, 29862,\n",
       "        31944], dtype=int64)]"
      ]
     },
     "execution_count": 10,
     "metadata": {},
     "output_type": "execute_result"
    }
   ],
   "source": [
    "#8th question\n",
    "import numpy as np\n",
    "lst = list(np.where(np.isnan(data_2['mass'])))\n",
    "lst"
   ]
  },
  {
   "cell_type": "code",
   "execution_count": null,
   "id": "8041668b",
   "metadata": {},
   "outputs": [
    {
     "data": {
      "text/plain": [
       "12      NaN\n",
       "38      NaN\n",
       "76      NaN\n",
       "93      NaN\n",
       "172     NaN\n",
       "         ..\n",
       "36812   NaN\n",
       "38188   NaN\n",
       "38278   NaN\n",
       "41460   NaN\n",
       "45698   NaN\n",
       "Name: mass, Length: 118, dtype: float64"
      ]
     },
     "execution_count": 11,
     "metadata": {},
     "output_type": "execute_result"
    }
   ],
   "source": [
    "#9th question\n",
    "data_3=data_2[pd.isnull(data_2['mass'])]\n",
    "data_3['mass']"
   ]
  },
  {
   "cell_type": "code",
   "execution_count": null,
   "id": "14b931ae",
   "metadata": {},
   "outputs": [],
   "source": [
    "#10th question\n",
    "data_2['mass']=data_2['mass'].fillna(df['mass'].median())\n",
    "print(data_2)"
   ]
  },
  {
   "cell_type": "code",
   "execution_count": null,
   "id": "9c9adff0",
   "metadata": {},
   "outputs": [
    {
     "name": "stdout",
     "output_type": "stream",
     "text": [
      "118\n"
     ]
    }
   ],
   "source": [
    "\n",
    "print(data_2['mass'].isnull().sum())"
   ]
  },
  {
   "cell_type": "code",
   "execution_count": null,
   "id": "7f71963a",
   "metadata": {},
   "outputs": [
    {
     "data": {
      "text/plain": [
       "count    0.0\n",
       "mean     NaN\n",
       "std      NaN\n",
       "min      NaN\n",
       "25%      NaN\n",
       "50%      NaN\n",
       "75%      NaN\n",
       "max      NaN\n",
       "Name: mass, dtype: float64"
      ]
     },
     "execution_count": 14,
     "metadata": {},
     "output_type": "execute_result"
    }
   ],
   "source": [
    "#13th question\n",
    "data_3['mass'].describe()"
   ]
  },
  {
   "cell_type": "code",
   "execution_count": null,
   "id": "b47e64e8",
   "metadata": {},
   "outputs": [],
   "source": []
  }
 ],
 "metadata": {
  "kernelspec": {
   "display_name": "Python 3.10.6 64-bit",
   "language": "python",
   "name": "python3"
  },
  "language_info": {
   "codemirror_mode": {
    "name": "ipython",
    "version": 3
   },
   "file_extension": ".py",
   "mimetype": "text/x-python",
   "name": "python",
   "nbconvert_exporter": "python",
   "pygments_lexer": "ipython3",
   "version": "3.10.6"
  },
  "vscode": {
   "interpreter": {
    "hash": "f6f4cdb6774bdc8db99714e0cc70bf7673a611f5146a029d29ecd36f870ace36"
   }
  }
 },
 "nbformat": 4,
 "nbformat_minor": 5
}
